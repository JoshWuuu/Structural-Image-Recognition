{
 "cells": [
  {
   "cell_type": "markdown",
   "metadata": {},
   "source": [
    "Import Statements"
   ]
  },
  {
   "cell_type": "code",
   "execution_count": 11,
   "metadata": {},
   "outputs": [],
   "source": [
    "import numpy as np\n",
    "import pandas as pd\n",
    "import os, math\n",
    "import matplotlib.pyplot as plt\n",
    "\n",
    "from PIL import Image\n",
    "from IPython.display import display # to display images"
   ]
  },
  {
   "cell_type": "markdown",
   "metadata": {},
   "source": [
    "Chunker function to make chunking easier"
   ]
  },
  {
   "cell_type": "code",
   "execution_count": 24,
   "metadata": {},
   "outputs": [],
   "source": [
    "def chunker(matrix, matrix_name, save_loc, chunk_size=1024, debug=False):\n",
    "    num_examples = matrix.shape[0]\n",
    "    chunk_start = 0\n",
    "    chunk_end = chunk_size\n",
    "    i = 1\n",
    "    while chunk_start < num_examples:\n",
    "        if debug:\n",
    "            print(i)\n",
    "        np.save(save_loc + \"/\" + matrix_name + \"_\" + str(i) + \".npy\", matrix[chunk_start:chunk_end])\n",
    "        chunk_start += chunk_size\n",
    "        chunk_end += chunk_size\n",
    "        i += 1"
   ]
  },
  {
   "cell_type": "markdown",
   "metadata": {},
   "source": [
    "Load data in read only memory map"
   ]
  },
  {
   "cell_type": "code",
   "execution_count": 30,
   "metadata": {},
   "outputs": [],
   "source": [
    "X_train_full = np.load('./Data/FullData/task1_X_train.npy', mmap_mode='r')\n",
    "X_test_full = np.load('./Data/FullData/task1_X_test.npy', mmap_mode='r')\n",
    "Y_train_full = np.load('./Data/FullData/task1_Y_train.npy', mmap_mode='r')\n",
    "Y_test_full = np.load('./Data/FullData/task1_Y_test.npy', mmap_mode='r')"
   ]
  },
  {
   "cell_type": "markdown",
   "metadata": {},
   "source": [
    "Save data to './Data/ChannelCentered' in chunks of size 1024"
   ]
  },
  {
   "cell_type": "code",
   "execution_count": 35,
   "metadata": {},
   "outputs": [
    {
     "name": "stdout",
     "output_type": "stream",
     "text": [
      "chunking completed\n"
     ]
    }
   ],
   "source": [
    "# chunker(X_train_full, 'X_train', './Data/Original')\n",
    "# chunker(X_test_full, 'X_test', './Data/Chunks')\n",
    "# chunker(Y_train_full, 'Y_train', './Data/Chunks')\n",
    "# chunker(Y_test_full, 'Y_test', './Data/Chunks')\n",
    "print(\"chunking completed\")"
   ]
  }
 ],
 "metadata": {
  "kernelspec": {
   "display_name": "conda_pytorch_p36",
   "language": "python",
   "name": "conda_pytorch_p36"
  },
  "language_info": {
   "codemirror_mode": {
    "name": "ipython",
    "version": 3
   },
   "file_extension": ".py",
   "mimetype": "text/x-python",
   "name": "python",
   "nbconvert_exporter": "python",
   "pygments_lexer": "ipython3",
   "version": "3.6.10"
  }
 },
 "nbformat": 4,
 "nbformat_minor": 4
}
